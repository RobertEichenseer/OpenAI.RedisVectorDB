{
 "cells": [
  {
   "attachments": {},
   "cell_type": "markdown",
   "metadata": {},
   "source": [
    "# Redis as Vector Database to provide primary content to prompts"
   ]
  },
  {
   "attachments": {},
   "cell_type": "markdown",
   "metadata": {},
   "source": [
    "## Intro\n",
    "\n",
    "Redis provides with [Redis Stack](https://redis.io/docs/stack/about/) an extension that adds modern data models and processing engines to the well know Redis in-memory data structure store. \n",
    "\n",
    "By extending Redis with Redis Stack it can be used as Vector Database to store embeddings (vectors) and to perform semantic search on the embeddings."
   ]
  },
  {
   "attachments": {},
   "cell_type": "markdown",
   "metadata": {},
   "source": [
    "### Step 1: Azure Environment\n",
    "\n",
    "This [Azure CLI script](../CreateEnv/CreateEnv.azcli) creates: \n",
    "- an Azure Open AI instance\n",
    "- deploys `text-embedding-ada-002` to calculate embeddings\n",
    "- starts a Redis Stack container on Azure Container Instances\n",
    "\n",
    "The script provides necessary credentials (API key) and endpoint information (OpenAI, Redis) and stores them in environment variables.\n",
    "\n",
    "```azurecli\n",
    "$ENV:AZURE_OPENAI_ENDPOINT = $csEndpoint\n",
    "$ENV:AZURE_OPENAI_API_KEY = $csApiKey\n",
    "$ENV:AZURE_OPENAI_DEPLOYMENTNAME = $modelDeploymentName\n",
    "$ENV:REDIS_PUBLIC_IP = $redisPublicIp\n",
    "```"
   ]
  },
  {
   "attachments": {},
   "cell_type": "markdown",
   "metadata": {},
   "source": [
    "### Step 2: Arbitrary facts\n",
    "\n",
    "Let's define some demo facts to be transformed into embeddings and stored in Redis."
   ]
  },
  {
   "cell_type": "code",
   "execution_count": 2,
   "metadata": {
    "dotnet_interactive": {
     "language": "csharp"
    },
    "polyglot_notebook": {
     "kernelName": "csharp"
    }
   },
   "outputs": [],
   "source": [
    "//Some arbitrary facts\n",
    "Dictionary<string, string> facts = new Dictionary<string, string>(); \n",
    "facts.Add(\"Mercury\", \"Mercury is the smallest planet in our solar system and the closest one to the Sun. It is approximately one-third the size of Earth.\");\n",
    "facts.Add(\"Saturn\", \"Saturn is a gas giant with a prominent system of rings, making it one of the most visually striking planets in our solar system.\");\n",
    "facts.Add(\"Germany\", \"Germany is a highly developed nation in central Europe, known for its rich history, technological advancements, and vibrant cultural scene.\");\n",
    "\n",
    "#!share --from c# facts --as facts"
   ]
  },
  {
   "attachments": {},
   "cell_type": "markdown",
   "metadata": {},
   "source": [
    "### Step 3: Connectivity\n",
    "\n",
    "Definition of:\n",
    "- Azure OpenAI client\n",
    "- Connection to Redis Stack"
   ]
  },
  {
   "cell_type": "code",
   "execution_count": 6,
   "metadata": {
    "dotnet_interactive": {
     "language": "csharp"
    },
    "polyglot_notebook": {
     "kernelName": "csharp"
    }
   },
   "outputs": [
    {
     "data": {
      "text/html": [
       "<div><div></div><div></div><div><strong>Installed Packages</strong><ul><li><span>Azure.AI.OpenAi, 1.0.0-beta.5</span></li><li><span>NRedisStack, 0.6.1</span></li></ul></div></div>"
      ]
     },
     "metadata": {},
     "output_type": "display_data"
    },
    {
     "name": "stdout",
     "output_type": "stream",
     "text": [
      "Azure OpenAI client created!\n",
      "Connection to Redis created!\n"
     ]
    }
   ],
   "source": [
    "#r \"nuget: Azure.AI.OpenAi, 1.0.0-beta.5\"\n",
    "#r \"nuget: NRedisStack, 0.6.1\"\n",
    "\n",
    "using Azure; \n",
    "using Azure.AI.OpenAI;\n",
    "using StackExchange.Redis;\n",
    "using NRedisStack;\n",
    "using NRedisStack.RedisStackCommands;\n",
    "using NRedisStack.Search;\n",
    "using NRedisStack.Search.Literals.Enums;\n",
    "using static NRedisStack.Search.Schema;\n",
    "\n",
    "string apiKey = \"<<your API key>>\"; \n",
    "Uri apiEndpoint = new Uri(\"https://<<your API endpoint/\"); \n",
    "string redisUri = \"<<your Redis Stack IP>>\"; \n",
    "\n",
    "//Create OpenAI Client\n",
    "AzureKeyCredential azureKeyCredential = new AzureKeyCredential(apiKey);\n",
    "OpenAIClient client = new OpenAIClient(\n",
    "    apiEndpoint,\n",
    "    azureKeyCredential\n",
    ");\n",
    "Console.WriteLine($\"Azure OpenAI client created!\");\n",
    "\n",
    "//Establish Redis Connection\n",
    "ConnectionMultiplexer redisConnection = ConnectionMultiplexer.Connect(redisUri);\n",
    "IDatabase redisDatabase = redisConnection.GetDatabase();\n",
    "Console.WriteLine(\"Connection to Redis created!\");\n",
    "\n",
    "#!share --from c# redisDatabase --as redisDatabase"
   ]
  },
  {
   "attachments": {},
   "cell_type": "markdown",
   "metadata": {},
   "source": [
    "### Step 4: Embeddings\n",
    "\n",
    "Usage of Azure OpenAI's `text-embedding-ada-002` model to created embeddings.\n"
   ]
  },
  {
   "cell_type": "code",
   "execution_count": 7,
   "metadata": {
    "dotnet_interactive": {
     "language": "csharp"
    },
    "polyglot_notebook": {
     "kernelName": "csharp"
    }
   },
   "outputs": [
    {
     "name": "stdout",
     "output_type": "stream",
     "text": [
      "Embedding for Mercury created!\n",
      "Embedding for Saturn created!\n",
      "Embedding for Germany created!\n"
     ]
    }
   ],
   "source": [
    "string modelDeploymentName = \"<<your model deployment name>>\";\n",
    "\n",
    "EmbeddingsOptions embeddingsOptions; \n",
    "Dictionary<string, float[]> vectors = new Dictionary<string, float[]>(); \n",
    "foreach (var fact in facts) {\n",
    "    embeddingsOptions = new EmbeddingsOptions(fact.Value){\n",
    "        InputType = fact.Key\n",
    "    };\n",
    "    Response<Embeddings> embedding = await client.GetEmbeddingsAsync(modelDeploymentName, embeddingsOptions); \n",
    "    vectors.Add(fact.Key, embedding.Value.Data[0].Embedding.ToArray<float>()); \n",
    "    Console.WriteLine($\"Embedding for {fact.Key} created!\");\n",
    "}\n",
    "\n",
    "#!share --from c# modelDeploymentName --as modelDeploymentName"
   ]
  },
  {
   "attachments": {},
   "cell_type": "markdown",
   "metadata": {},
   "source": [
    "### Step 5: Store vectors\n",
    "\n",
    "The calculated vectors are stored in Redis using HashSets"
   ]
  },
  {
   "cell_type": "code",
   "execution_count": 8,
   "metadata": {
    "dotnet_interactive": {
     "language": "csharp"
    },
    "polyglot_notebook": {
     "kernelName": "csharp"
    }
   },
   "outputs": [
    {
     "name": "stdout",
     "output_type": "stream",
     "text": [
      "Embedding for Mercury stored in Redis\n",
      "Embedding for Saturn stored in Redis\n",
      "Embedding for Germany stored in Redis\n"
     ]
    }
   ],
   "source": [
    "//Store Embeddings/Vectors in Redis\n",
    "foreach (var vector in vectors)\n",
    "{\n",
    "    redisDatabase.HashSet($\"vec:{vector.Key}\", new HashEntry[]\n",
    "    {\n",
    "        new(\"vector\", (vector.Value).SelectMany(BitConverter.GetBytes).ToArray()),\n",
    "        new(\"key\", $\"{vector.Key}\")\n",
    "    });\n",
    "    Console.WriteLine($\"Embedding for {vector.Key} stored in Redis\");\n",
    "}"
   ]
  },
  {
   "attachments": {},
   "cell_type": "markdown",
   "metadata": {},
   "source": [
    "### Step 6: Create Search Index\n",
    "\n",
    "Creation of a search index on the vectors to query them."
   ]
  },
  {
   "cell_type": "code",
   "execution_count": 9,
   "metadata": {
    "dotnet_interactive": {
     "language": "csharp"
    },
    "polyglot_notebook": {
     "kernelName": "csharp"
    }
   },
   "outputs": [
    {
     "name": "stdout",
     "output_type": "stream",
     "text": [
      "Redis search index created!\r\n"
     ]
    }
   ],
   "source": [
    "//Create Redis Search Index\n",
    "ISearchCommands ft = redisDatabase.FT();\n",
    "try {ft.DropIndex(\"search_index\");} catch {};  //delete index in case it already exists\n",
    "\n",
    "Dictionary<string, object> vectorAttributes = new Dictionary<string, object>(); \n",
    "vectorAttributes.Add(\"DIM\", 1536);\n",
    "vectorAttributes.Add(\"TYPE\", \"FLOAT32\");\n",
    "vectorAttributes.Add(\"DISTANCE_METRIC\", \"L2\");\n",
    "\n",
    "ft.Create(\"search_index\", \n",
    "    new FTCreateParams().On(IndexDataType.HASH).Prefix(\"vec:\"),\n",
    "    new Schema().AddTagField(\"key\").AddVectorField(\"vector\", VectorField.VectorAlgo.FLAT, vectorAttributes)); \n",
    "\n",
    "Console.WriteLine(\"Redis search index created!\"); "
   ]
  },
  {
   "attachments": {},
   "cell_type": "markdown",
   "metadata": {},
   "source": [
    "### Step 7: Search\n",
    "\n",
    "Redis Stack allows based on the previously created search index a semantic search. In the example a vector representation (embedding) of the query **Name planets in our solar system** will be created and used to perform a semantic search. Results of the semantic search, including the score are displayed."
   ]
  },
  {
   "cell_type": "code",
   "execution_count": 10,
   "metadata": {
    "dotnet_interactive": {
     "language": "csharp"
    },
    "polyglot_notebook": {
     "kernelName": "csharp"
    }
   },
   "outputs": [
    {
     "name": "stdout",
     "output_type": "stream",
     "text": [
      "Document: vec:Mercury, Score: 0.29868093133\n",
      "Document: vec:Saturn, Score: 0.309674471617\n"
     ]
    }
   ],
   "source": [
    "//Perform semantic search\n",
    "string query = \"Name planets in our solar system\"; \n",
    "embeddingsOptions = new EmbeddingsOptions(query){\n",
    "    InputType = \"query\"\n",
    "};\n",
    "Response<Embeddings> embeddings = await client.GetEmbeddingsAsync(modelDeploymentName, embeddingsOptions); \n",
    "float[] searchVector = embeddings.Value.Data[0].Embedding.ToArray<float>();\n",
    "SearchResult searchResult = ft.Search(\"search_index\",\n",
    "    new Query(\"*=>[KNN 2 @vector $searchVector]\")\n",
    "    .AddParam(\"searchVector\", searchVector.SelectMany(BitConverter.GetBytes).ToArray())\n",
    "    .SetSortBy(\"__vector_score\")\n",
    "    .Dialect(2));\n",
    "\n",
    "foreach (Document doc in searchResult.Documents) {\n",
    "    Console.WriteLine($\"Document: {doc.Id}, Score: {doc.GetProperties().Where(x => x.Key == \"__vector_score\").FirstOrDefault().Value}\");\n",
    "}"
   ]
  },
  {
   "attachments": {},
   "cell_type": "markdown",
   "metadata": {},
   "source": [
    "## Summary\n",
    "\n",
    "Redis and Redis Stack in combination with OpenAI can be used to calculate, store and semantically query existing data. This could be used provide primary content to prompts."
   ]
  }
 ],
 "metadata": {
  "kernelspec": {
   "display_name": ".NET (C#)",
   "language": "C#",
   "name": ".net-csharp"
  },
  "language_info": {
   "name": "polyglot-notebook"
  },
  "polyglot_notebook": {
   "kernelInfo": {
    "defaultKernelName": "csharp",
    "items": [
     {
      "aliases": [],
      "languageName": "csharp",
      "name": "csharp"
     }
    ]
   }
  }
 },
 "nbformat": 4,
 "nbformat_minor": 2
}
